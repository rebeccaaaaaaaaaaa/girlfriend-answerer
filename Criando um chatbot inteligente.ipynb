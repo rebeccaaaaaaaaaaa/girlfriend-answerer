{
 "cells": [
  {
   "cell_type": "code",
   "execution_count": null,
   "id": "2b18ca8a",
   "metadata": {},
   "outputs": [],
   "source": [
    "from chatterbot import ChatBot\n",
    "from chatterbot.trainers import ListTrainer\n",
    "from spacy.cli import download\n",
    "\n",
    "download(\"en_core_web_sm\")\n",
    "\n",
    "class ENGSM:\n",
    "    ISO_639_1 = 'en_core_web_sm'"
   ]
  },
  {
   "cell_type": "code",
   "execution_count": null,
   "id": "b9a03f46",
   "metadata": {},
   "outputs": [],
   "source": [
    "chatbot = ChatBot(\"BotRebecca\", tagger_language=ENGSM)\n",
    "\n",
    "conversa = [\n",
    "    #mensagem\n",
    "    \"Mor, o que voce ta fazendo?\",\n",
    "    #o que o chatbot vai responder\n",
    "    \"Oi mor, to jogando lolzinho\",\n",
    "    #mensagem\n",
    "    \"Ja lavou a louça?\",\n",
    "    #o que o chatbot vai responder\n",
    "    \"sim senhora\",\n",
    "    #mensagem\n",
    "    \"Ja limpou a casa?\",\n",
    "    #o que o chatbot vai responder\n",
    "    \"só mais uma partida e ja vou\",\n",
    "    #mensagem\n",
    "    \"Não esquece de dar comida pro cachorro\",\n",
    "    #o que o chatbot vai responder\n",
    "    \"ele ja comeu e agr ta dormindo\",\n",
    "    #mensagem\n",
    "    \"Cade o teto?\",\n",
    "    #o que o chatbot vai responder\n",
    "    \"Joguei fora hihi\",\n",
    "    #mensagem\n",
    "    \"chata\",\n",
    "    #o que o chatbot vai responder\n",
    "    \"tbm te amo\",\n",
    "    #mensagem\n",
    "    \"o que vamos jantar?\",\n",
    "    #o que o chatbot vai responder\n",
    "    \"pode escolher, eu deixo\",\n",
    "    #mensagem\n",
    "    \"o que vamos almoçar?\",\n",
    "    #o que o chatbot vai responder\n",
    "    \"lanche\",\n",
    "    #mensagem\n",
    "    \"vamos ver um filme?\",\n",
    "    #o que o chatbot vai responder\n",
    "    \"quero ver desenho\",\n",
    "]\n",
    "\n",
    "trainer = ListTrainer(chatbot)\n",
    "trainer.train(conversa)"
   ]
  },
  {
   "cell_type": "code",
   "execution_count": null,
   "id": "94d79a60",
   "metadata": {},
   "outputs": [],
   "source": [
    "while True:\n",
    "    mensagem = input(\"Digite sua mensagem!\")\n",
    "    if mensagem == \"Tchau\":\n",
    "        break\n",
    "    resposta = chatbot.get_response(mensagem)\n",
    "    print(resposta)"
   ]
  },
  {
   "cell_type": "code",
   "execution_count": null,
   "id": "d2e77de4",
   "metadata": {},
   "outputs": [],
   "source": [
    "#chatbot.storage.drop()"
   ]
  },
  {
   "cell_type": "code",
   "execution_count": null,
   "id": "08131afb",
   "metadata": {},
   "outputs": [],
   "source": []
  },
  {
   "cell_type": "code",
   "execution_count": null,
   "id": "53c537a0",
   "metadata": {},
   "outputs": [],
   "source": []
  }
 ],
 "metadata": {
  "interpreter": {
   "hash": "3272a22d0610b0fb16d84a26132652f5bf2e37d0f9c43cff5b1680c5e47d86cd"
  },
  "kernelspec": {
   "display_name": "Python 3.6.13 64-bit ('chatbotpython': conda)",
   "name": "python3"
  },
  "language_info": {
   "codemirror_mode": {
    "name": "ipython",
    "version": 3
   },
   "file_extension": ".py",
   "mimetype": "text/x-python",
   "name": "python",
   "nbconvert_exporter": "python",
   "pygments_lexer": "ipython3",
   "version": "3.6.13"
  }
 },
 "nbformat": 4,
 "nbformat_minor": 5
}
