{
 "cells": [
  {
   "cell_type": "code",
   "execution_count": 2,
   "id": "2b18ca8a",
   "metadata": {},
   "outputs": [
    {
     "name": "stdout",
     "output_type": "stream",
     "text": [
      "✔ Download and installation successful\n",
      "You can now load the package via spacy.load('en_core_web_sm')\n"
     ]
    }
   ],
   "source": [
    "from chatterbot import ChatBot\n",
    "from chatterbot.trainers import ListTrainer\n",
    "from spacy.cli import download\n",
    "\n",
    "download(\"en_core_web_sm\")\n",
    "\n",
    "class ENGSM:\n",
    "    ISO_639_1 = 'en_core_web_sm'"
   ]
  },
  {
   "cell_type": "code",
   "execution_count": 27,
   "id": "b9a03f46",
   "metadata": {},
   "outputs": [
    {
     "name": "stdout",
     "output_type": "stream",
     "text": [
      "List Trainer: [####################] 100%\n"
     ]
    }
   ],
   "source": [
    "chatbot = ChatBot(\"BotRebecca\", tagger_language=ENGSM)\n",
    "\n",
    "conversa = [\n",
    "    #mensagem\n",
    "    \"Mor, o que voce ta fazendo?\",\n",
    "    #o que o chatbot vai responder\n",
    "    \"Oi mor, to jogando lolzinho\",\n",
    "    #mensagem\n",
    "    \"Ja lavou a louça?\",\n",
    "    #o que o chatbot vai responder\n",
    "    \"sim senhora\",\n",
    "    #mensagem\n",
    "    \"Ja limpou a casa?\",\n",
    "    #o que o chatbot vai responder\n",
    "    \"só mais uma partida e ja vou\",\n",
    "    #mensagem\n",
    "    \"Não esquece de dar comida pro cachorro\",\n",
    "    #o que o chatbot vai responder\n",
    "    \"ele ja comeu e agr ta dormindo\",\n",
    "    #mensagem\n",
    "    \"Cade o teto?\",\n",
    "    #o que o chatbot vai responder\n",
    "    \"Joguei fora hihi\",\n",
    "    #mensagem\n",
    "    \"chata\",\n",
    "    #o que o chatbot vai responder\n",
    "    \"tbm te amo\",\n",
    "    #mensagem\n",
    "    \"o que vamos jantar?\",\n",
    "    #o que o chatbot vai responder\n",
    "    \"pode escolher, eu deixo\",\n",
    "    #mensagem\n",
    "    \"o que vamos almoçar?\",\n",
    "    #o que o chatbot vai responder\n",
    "    \"lanche\",\n",
    "    #mensagem\n",
    "    \"vamos ver um filme?\",\n",
    "    #o que o chatbot vai responder\n",
    "    \"quero ver desenho\",\n",
    "]\n",
    "\n",
    "trainer = ListTrainer(chatbot)\n",
    "trainer.train(conversa)"
   ]
  },
  {
   "cell_type": "code",
   "execution_count": null,
   "id": "94d79a60",
   "metadata": {},
   "outputs": [
    {
     "name": "stdout",
     "output_type": "stream",
     "text": [
      "Digite sua mensagem!Mor, o que voce ta fazendo?\n",
      "Oi mor, to jogando lolzinho\n",
      "Digite sua mensagem!Ja lavou a louça?\n",
      "sim senhora\n",
      "Digite sua mensagem!Ja limpou a casa?\n",
      "só mais uma partida e ja vou\n",
      "Digite sua mensagem!Não esquece de dar comida pro cachorro\n",
      "ele ja comeu e agr ta dormindo\n",
      "Digite sua mensagem!Cade o teto?\n",
      "Joguei fora hihi\n",
      "Digite sua mensagem!chata\n",
      "tbm te amo\n",
      "Digite sua mensagem!o que vamos jantar?\n",
      "pode escolher, eu deixo\n",
      "Digite sua mensagem!o que vamos almoçar?\n",
      "lanche\n",
      "Digite sua mensagem!vamos ver um filme?\n",
      "quero ver desenho\n"
     ]
    }
   ],
   "source": [
    "while True:\n",
    "    mensagem = input(\"Digite sua mensagem!\")\n",
    "    if mensagem == \"Tchau\":\n",
    "        break\n",
    "    resposta = chatbot.get_response(mensagem)\n",
    "    print(resposta)"
   ]
  },
  {
   "cell_type": "code",
   "execution_count": 25,
   "id": "d2e77de4",
   "metadata": {},
   "outputs": [],
   "source": [
    "#chatbot.storage.drop()"
   ]
  },
  {
   "cell_type": "code",
   "execution_count": null,
   "id": "08131afb",
   "metadata": {},
   "outputs": [],
   "source": []
  },
  {
   "cell_type": "code",
   "execution_count": null,
   "id": "53c537a0",
   "metadata": {},
   "outputs": [],
   "source": []
  }
 ],
 "metadata": {
  "kernelspec": {
   "display_name": "Python 3",
   "language": "python",
   "name": "python3"
  },
  "language_info": {
   "codemirror_mode": {
    "name": "ipython",
    "version": 3
   },
   "file_extension": ".py",
   "mimetype": "text/x-python",
   "name": "python",
   "nbconvert_exporter": "python",
   "pygments_lexer": "ipython3",
   "version": "3.6.13"
  }
 },
 "nbformat": 4,
 "nbformat_minor": 5
}
